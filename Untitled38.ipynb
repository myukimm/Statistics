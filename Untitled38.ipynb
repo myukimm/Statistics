{
  "nbformat": 4,
  "nbformat_minor": 0,
  "metadata": {
    "colab": {
      "provenance": []
    },
    "kernelspec": {
      "name": "python3",
      "display_name": "Python 3"
    },
    "language_info": {
      "name": "python"
    }
  },
  "cells": [
    {
      "cell_type": "markdown",
      "source": [
        "백트래킹(Backtracking)\n",
        "\n",
        "해를 찾아가는 도중, 지금의 경로가 해가 될 것 같지 않으면 그 경로를 더이상 가지 않고 되돌아가서 다시 해를 찾는 기법이다. 이를 가지치기라고 하는데 불필요한 부분을 쳐내고 최대한 올바른 쪽으로 간드는 의미이다. 즉, 반복문의 횟수를 줄일 수 있으므로 효율적이다.\n",
        "\n",
        "일반적으로 불필요한 경로를 조기에 차단할 수 있게 되어 경우의 수가 줄어들지만, 만약 N!의 경우의 수를 가진 문제에서 최악의 경우에는 여전히 지수함수 시간을 필요로 하므로 처리가 불가능할 수도 있다. 따라서 가지치기를 얼마나 잘하느냐에 따라 효율성이 결정되게 된다.\n",
        "\n",
        "주로 문제 풀이에서 모든 경우의 수를 탐색하는 과정에서 조건문 등을 걸어 답이 절대 될 수 없는 상황을 정의하고, 그러한 상황일 경우에는 탐색을 종지시킨 뒤 그 이전으로 돌아가서 다시 다른 경우를 탐색하게끔 구현할 수 있다.\n",
        "\n",
        "N-Queen 백트래킹으로 유명한 문제이다. 문제는 아래와 같다.\n",
        "\n",
        "크기가 N*N인 체스판 위에 퀸 N개를 서로 공격할 수 없게 놓는 문제이다. N이 주어졌을 때, 퀸을 놓는 방법의 수를 구하는 프로그램을 작성하시오.\n",
        "\n",
        "즉 그림의 빨간색 선이 퀸이 이동할 수 있는 경로이다. 첫번째 퀸과 공격할 수 없게 배치하려면 2번째 줄에서는 2, 3번째 위치에 퀸을 놓아야 한다. 첫번째 퀸의 위치를(1,1)로 하면 트리 구조는 다음과 같다. \n",
        "\n",
        "이 문제를 백트래킹으로 풀지 않았다면 유망하지 않는 (2,1), (2,2) 지점도 검사를 했을 것이다. 그렇게 되면 경우의 수를 찾을 때 더 많은 연산이 일어나게 될 것이다.\n",
        "\n",
        "백트래킹은 크게 아래의 4가지 절차로 구성된다.\n",
        "\n",
        "1. DFS 수행 - 깊이우선탐색인 DFS를 수행하여 노드를 찾는다. \n",
        "\n",
        "\n",
        "2. 유망한 노드 검토 - 방문한 노드를 포함하여 유망한 노드이면 서브트리로 이동하고, 그렇지 않으면 백트래킹을 수행한다.\n",
        "\n",
        "3. 서브트리 이동 - 방문한 노드의 하위 노드로 이동하여 다시 재귀를 통해 DFS를 수행한다.\n",
        "\n",
        "4. 백트래킹 수행 - 방문한 노드를 가지치기 하고 상위 노드로 백트래킹한 후 DFS를 다시 수행한다. \n"
      ],
      "metadata": {
        "id": "L2lVqQDeDS6C"
      }
    },
    {
      "cell_type": "markdown",
      "source": [
        "위 절차를 통해 2번째 위치에서 퀸을 놓는 방법을 찾아본다. \n",
        "\n",
        "1. (1,)에서 시작하여 DFS 수행을 통해 가장 첫번째 노드인 (2,1) 지점으로 간다.\n",
        "\n",
        "2. (2,1) 노드는 첫번째 퀸의 이동반경에 포함되므로 유망한 노드가 아니다. 백트래킹을 수행하여 상위 노드인 (1,1) 지점으로 이동한다.\n",
        "\n",
        "3. 다시 DFS를 수행하여 다음 노드인 (2,2)로 이동한다.\n",
        "\n",
        "4. (2,2) 역시 첫번째 퀸의 이동 반경에 포함되므로 유망한 노드가 아니다. 백트래킹을 수행하여 상위 노드인 (1,1) 지점으로 이동한다.\n",
        "\n",
        "5. 다시 DFS를 수행하여 다음 노드인 (2,3)로 이동한다.\n",
        "\n",
        "6. (2,3) 노드를 검사해보니 첫번째 퀸의 이동반경에 포함되지 않아 유망한 노드다. 이제 (2,3)을 기준으로 DFS를 수행하여 3번째 퀸의 위치를 찾는다.\n",
        "\n",
        "위와 같이 가지치기를 통해 노드가 유망하지 않으면 잘라버려서, 탐색하는 경로를 최소한으로 줄일 수 있게 된다.\n"
      ],
      "metadata": {
        "id": "d-9XQbMLDS9X"
      }
    },
    {
      "cell_type": "markdown",
      "source": [
        "챗봇 프로그램"
      ],
      "metadata": {
        "id": "6_MakTjJDTAN"
      }
    },
    {
      "cell_type": "markdown",
      "source": [
        "RNN 프로그램"
      ],
      "metadata": {
        "id": "GDd8U7_0SzLm"
      }
    },
    {
      "cell_type": "markdown",
      "source": [
        "### 생성자와 판별자 모델을 구성"
      ],
      "metadata": {
        "id": "bW6P7GPADTC1"
      }
    },
    {
      "cell_type": "markdown",
      "source": [
        "Fashion MNIST를 이용\n",
        "\n",
        "이미 kears에 저장되어 있는 데이터를 사용."
      ],
      "metadata": {
        "id": "Gt_qsiR5J33w"
      }
    },
    {
      "cell_type": "markdown",
      "source": [
        "GAN은 두가지 네트워크가 있다.\n",
        "\n",
        "생성자와 판별자\n",
        "\n",
        "1. 생성자는 아무 의미 없는 랜덤 노이즈로부터 신경망에서의 연산을 통해 이미지 형상의 벡터를 생성해 낸다. 즉, 무에서 유를 창조하는 것과 같은 역활을 한다.\n",
        "\n",
        "2. 판별자는 기존에 있던 진짜 이미지와 생성자가 만들어낸 이미지를 입력 받아 각 이미지가 Real인지, Fake인지에 대한 판단 정도를 실숫값으로 출력한다."
      ],
      "metadata": {
        "id": "1s6NmUzaJ36m"
      }
    },
    {
      "cell_type": "markdown",
      "source": [
        "생성자는 위조 지폐를 만들언 내는 팀\n",
        "\n",
        "판별자는 위조 지폐범을 잡아내는 경찰\n",
        "\n",
        "위조지폐를 만들어 내는 팀은 잡히지 않기 위해서 더 진짜 같은 지폐를 만들려고 하며, 그것을 잡아내는 경찰은 끊임없이 진짜 지폐와 위조지폐를 구분하려고 한다. 즉, 서로 간의 경쟁이 둘 모두를 성장하게 한다. 궁극적인 목표는 진짜 지폐와 구분될 수 없는 위조지폐를 만들어 내는 것이다."
      ],
      "metadata": {
        "id": "vqO0VPyvJ39z"
      }
    },
    {
      "cell_type": "markdown",
      "source": [
        "GAN은 손실함수로 교차 엔트로피(Cross Entropy)를 사용한다.\n",
        "\n",
        "교차 엔트로피는 앞서 분류 모델을 설계할 때 많이 사용했던 손실함숭다. 점점 가까워지기 원하는 두 값이 얼마나 큰 차이가 나는 지를 정량적으로 계산할 때 많이 쓴다. 특히 판별자는 한 개의 이미지가 가짜인지 진짜인지 나타내는 2개 클래스 간 분류 문제를 풀어야 하므로 이차 교차 엔트로피(binary cross entropy)를 사용할 것이다.\n",
        "\n",
        "Real Image에 대한 라벨을 1, Fake Image에 대한 라벨을 0으로 두었을 때, 각각의 손실 함수를 이용해 정량적으로 달성해야 하는 목표하는 결과는 다음과 같다.\n",
        "\n",
        "1. 생성자 : 판별자가 Fake Image에 대해 판별한 값, 즉  D(fake_image) 값이 1에 가까워지는 것\n",
        "\n",
        "2. 판별자 : Real Image 판별값, 즉 D(real_image)는 1에, Fake Image 판별값, 즉 D(fake_image)는 0에 가까워지는 것"
      ],
      "metadata": {
        "id": "j-Eke6OKTt4k"
      }
    },
    {
      "cell_type": "markdown",
      "source": [
        "결국 생성자든 구분자든, 결국 손실함수에 들어가는 값은 모두 판별자의 판별값이 되겠다. 이러한 기준을 가지고 생성자, 판별자 각각에 대한 손실함수를 설계해보자.\n",
        "\n",
        "손실함수에 사용할 교차 엔트로피 함수"
      ],
      "metadata": {
        "id": "476BGP_wTt7P"
      }
    },
    {
      "cell_type": "markdown",
      "source": [],
      "metadata": {
        "id": "f-QKYV3yTt9j"
      }
    },
    {
      "cell_type": "markdown",
      "source": [
        "Face Detection와 Facial Landmark Detection은 FaceLandmarkDetection은 dlib 라이브러리를 통해 구현이 가능하다.\n",
        "\n",
        "이 라이브러리는 HOG와 SVM을 사용해서 얼굴을 찾는다. "
      ],
      "metadata": {
        "id": "YB8qZvs8J4Aa"
      }
    },
    {
      "cell_type": "markdown",
      "source": [
        "HOG는 이미지에서 색상의 변화량을 나타낸 것이다.\n",
        "\n",
        "SVM은 선형 분류기이다. 한 이미지를 다차원 공간의 한 벡터라고 보면 여러 이미지는 여러 벡터가 된다. 이 여러 벡터를 잘구분짓는 방법이다.  \n",
        "\n",
        "sliding window를 사용한다."
      ],
      "metadata": {
        "id": "8Lu5yWI_Kohh"
      }
    },
    {
      "cell_type": "markdown",
      "source": [
        "이목구비의 위치를 추론하는 것을 face landmaark localization이다.\n",
        "\n",
        "face landmark는 detection의 결과물인 bounding box로 잘라낸(crop) 얼굴 이미지를 이용한다."
      ],
      "metadata": {
        "id": "OiRMaL3-LFyo"
      }
    },
    {
      "cell_type": "markdown",
      "source": [
        "Object keypoint estimation 알고리즘\n",
        "\n",
        "Face landmark와 같이 객체 내부의 점을 찾는 기술을 object keypoint estimation이라고 한다. keypoint를 찾는 알고리즘은 크게 2가지로 나눈다.\n",
        "\n",
        "top-down : bounding box를 찾고 box 내부의 keypoint를 예측\n",
        "\n",
        "bottom-up : 이미지 전체의 keypoint를 먼저 찾고 point 관계를 이용해 군집화 해서 box 생성"
      ],
      "metadata": {
        "id": "JyoCVqQlMp-b"
      }
    },
    {
      "cell_type": "markdown",
      "source": [
        "RNN"
      ],
      "metadata": {
        "id": "F7ZuRCLkMqBb"
      }
    },
    {
      "cell_type": "markdown",
      "source": [
        "앞서 배운 신경망들은 전부 은닉층에서 활성화 함수를 지난 값은 오직 출력층 방향으로만 향햇다. 이와 같은 신경망들은 포워드 신경망이라고 한다. 그런데 그렇지 않은 신경망들이 잇다. RNN 또한 그 중 하나이다. RNN은 은닉층의 노드에서 활성화 함수를 통해 나온 결과값을 출력층 방향으로도 보내면서, 다시 은닉층 노드의 다음 계산의 입력으로 보내는 특징을 가지고 있다."
      ],
      "metadata": {
        "id": "NfuKp_TeMqDx"
      }
    },
    {
      "cell_type": "markdown",
      "source": [
        "![image.png](data:image/png;base64,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)"
      ],
      "metadata": {
        "id": "KmQuQaekOg2x"
      }
    },
    {
      "cell_type": "markdown",
      "source": [
        "위의 그림을 보겠다. x는 입력층의 입력 벡터, y는 출력층의 출력 벡터이다. 실제로는 편향 b도 입력으로 존재할 수 있지만 앞으로의 그림에서는 생략한다. RNN에서 은닉층에서 활성화 함수를 통해 결과를 내보내는 역할을 하는 노드를 셀(cell)이라고 한다. 이 셀은 이전의 값을 기억하려고 하는 일종의 메모리 역할을 수행하므로 이를 메모리 셀 또는 RNN 셀이라고 표현한다. "
      ],
      "metadata": {
        "id": "hadYzTZ7MqGV"
      }
    },
    {
      "cell_type": "markdown",
      "source": [
        "은닉층의 메모리 셀은 각각의 시점(time step)에서 바로 이전 시점에서의 은닉층의 메모리 셀에서 나온 값을 자신의 입력으로 사용하는 재귀적 화동을 하고 있다. 앞으로는 현재 시점을 변수 t로 표현하겠다. 이는 현재 시점 t에서의 메모리 셀이 갖고 있는 값은 과거의 메모리 셀들의 값에 영ㅎㅇ을 받"
      ],
      "metadata": {
        "id": "2muoOJl9O2P9"
      }
    },
    {
      "cell_type": "markdown",
      "source": [],
      "metadata": {
        "id": "y3KSjFmUO2VP"
      }
    },
    {
      "cell_type": "markdown",
      "source": [],
      "metadata": {
        "id": "n73w8NYgO2Xq"
      }
    }
  ]
}